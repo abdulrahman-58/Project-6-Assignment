{
  "nbformat": 4,
  "nbformat_minor": 0,
  "metadata": {
    "colab": {
      "provenance": [],
      "authorship_tag": "ABX9TyPsy20y+WHCvn5njfy5E9OJ"
    },
    "kernelspec": {
      "name": "python3",
      "display_name": "Python 3"
    },
    "language_info": {
      "name": "python"
    }
  },
  "cells": [
    {
      "cell_type": "markdown",
      "source": [
        "# ***1. Using self***\n",
        "# ***Assignment:***\n",
        "# ***Create a class Student with attributes name and marks. Use the self keyword to initialize these values via a constructor. Add a method display() that prints student details.***"
      ],
      "metadata": {
        "id": "Qf7oe2Cgwsik"
      }
    },
    {
      "cell_type": "code",
      "execution_count": null,
      "metadata": {
        "id": "CyJsxRSrwZN7",
        "colab": {
          "base_uri": "https://localhost:8080/"
        },
        "outputId": "3681e197-92a1-4e19-f329-6574bdce6a66"
      },
      "outputs": [
        {
          "output_type": "stream",
          "name": "stdout",
          "text": [
            "Name: John , Marks: 90\n",
            "Name: Jane , Marks: 85\n"
          ]
        }
      ],
      "source": [
        "class Student:\n",
        "  def __init__(self, name, marks):\n",
        "    self.name = name\n",
        "    self.marks = marks\n",
        "\n",
        "  def display(self):\n",
        "    print(f\"Name: {self.name} , Marks: {self.marks}\")\n",
        "\n",
        "s1 = Student(\"John\", 90)\n",
        "s1.display()\n",
        "\n",
        "s2 = Student(\"Jane\", 85)\n",
        "s2.display()"
      ]
    },
    {
      "cell_type": "markdown",
      "source": [
        "# ***2. Using cls***\n",
        "# ***Assignment:***\n",
        "# ***Create a class Counter that keeps track of how many objects have been created. Use a class variable and a class method with cls to manage and display the count.***"
      ],
      "metadata": {
        "id": "aYZlAfxVw6lK"
      }
    },
    {
      "cell_type": "code",
      "source": [
        "class Counter:\n",
        "  count = 0\n",
        "\n",
        "  def __init__(self):\n",
        "    Counter.count +=1\n",
        "\n",
        "  @classmethod\n",
        "  def display_count(cls):\n",
        "    print(f\"Total objects created: {cls.count}\")\n",
        "\n",
        "c1 = Counter()\n",
        "c2 = Counter()\n",
        "c3 = Counter()\n",
        "\n",
        "Counter.display_count()"
      ],
      "metadata": {
        "id": "4xSWNtuUxDFJ",
        "colab": {
          "base_uri": "https://localhost:8080/"
        },
        "outputId": "ff39e926-aed1-4c6b-e09b-09b3033668ac"
      },
      "execution_count": null,
      "outputs": [
        {
          "output_type": "stream",
          "name": "stdout",
          "text": [
            "Total objects created: 3\n"
          ]
        }
      ]
    },
    {
      "cell_type": "markdown",
      "source": [
        "# ***3. Public Variables and Methods***\n",
        "# ***Assignment:***\n",
        "# ***Create a class Car with a public variable brand and a public method start(). Instantiate the class and access both from outside the class.***\n"
      ],
      "metadata": {
        "id": "zd3sQqZzxD9Q"
      }
    },
    {
      "cell_type": "code",
      "source": [
        "class Car:\n",
        "  def __init__(self, brand):\n",
        "    self.brand = brand\n",
        "\n",
        "  def start(self):\n",
        "    print(f\"The {self.brand} car has started.\")\n",
        "\n",
        "car1 = Car(\"Toyota\")\n",
        "car1.start()\n"
      ],
      "metadata": {
        "id": "jQpNIR5WxL4A",
        "colab": {
          "base_uri": "https://localhost:8080/"
        },
        "outputId": "a4371020-5ae5-468e-ecc2-0296879aad08"
      },
      "execution_count": null,
      "outputs": [
        {
          "output_type": "stream",
          "name": "stdout",
          "text": [
            "The Toyota car has started.\n"
          ]
        }
      ]
    },
    {
      "cell_type": "markdown",
      "source": [
        "# ***4. Class Variables and Class Methods***\n",
        "# ***Assignment:***\n",
        "# ***Create a class Bank with a class variable bank_name. Add a class method change_bank_name(cls, name) that allows changing the bank name. Show that it affects all instances.***"
      ],
      "metadata": {
        "id": "WQ_NozwGxMbw"
      }
    },
    {
      "cell_type": "code",
      "source": [
        "class Bank:\n",
        "  bank_name = \"Bank Al Falah\"\n",
        "  @classmethod\n",
        "  def change_bank_name(cls,name):\n",
        "    cls.bank_name = name\n",
        "Bank().change_bank_name(\"Meezan Bank\")\n",
        "print(Bank.bank_name)"
      ],
      "metadata": {
        "id": "rpFQt4GpxVH4",
        "colab": {
          "base_uri": "https://localhost:8080/"
        },
        "outputId": "594fe1a5-3729-4a2e-b900-ad7d296ee887"
      },
      "execution_count": null,
      "outputs": [
        {
          "output_type": "stream",
          "name": "stdout",
          "text": [
            "Meezan Bank\n"
          ]
        }
      ]
    },
    {
      "cell_type": "markdown",
      "source": [
        "# ***5. Static Variables and Static Methods***\n",
        "# ***Assignment:***\n",
        "# ***Create a class MathUtils with a static method add(a, b) that returns the sum. No class or instance variables should be used.***"
      ],
      "metadata": {
        "id": "sbwKBNm2xV1A"
      }
    },
    {
      "cell_type": "code",
      "source": [
        "class MathUtils:\n",
        "  @staticmethod\n",
        "  def add(a,b):\n",
        "    return a+b\n",
        "print(MathUtils.add(10,20))"
      ],
      "metadata": {
        "id": "JxMYJdDoxaBA",
        "colab": {
          "base_uri": "https://localhost:8080/"
        },
        "outputId": "1b46099e-676c-4889-c063-906b26e13606"
      },
      "execution_count": null,
      "outputs": [
        {
          "output_type": "stream",
          "name": "stdout",
          "text": [
            "30\n"
          ]
        }
      ]
    },
    {
      "cell_type": "markdown",
      "source": [
        "# ***6. Constructors and Destructors***\n",
        "# ***Assignment:***\n",
        "# ***Create a class Logger that prints a message when an object is created (constructor) and another message when it is destroyed (destructor).***\n",
        "\n"
      ],
      "metadata": {
        "id": "WlLIOH3YxaxH"
      }
    },
    {
      "cell_type": "code",
      "source": [
        "class Logger:\n",
        "  def __init__(self):\n",
        "    print(\"Object created\")\n",
        "  def __del__(self):\n",
        "    print(\"Object destroyed\")\n",
        "\n",
        "log1 = Logger()\n",
        "log2 = Logger()\n",
        "del log1\n",
        "del log2"
      ],
      "metadata": {
        "id": "FBI4z9l6xgnX",
        "colab": {
          "base_uri": "https://localhost:8080/"
        },
        "outputId": "72f2c73f-1358-4b7a-fad9-a53b1791f0af"
      },
      "execution_count": null,
      "outputs": [
        {
          "output_type": "stream",
          "name": "stdout",
          "text": [
            "Object created\n",
            "Object created\n",
            "Object destroyed\n",
            "Object destroyed\n"
          ]
        }
      ]
    },
    {
      "cell_type": "markdown",
      "source": [
        "# ***7. Access Modifiers: Public, Private, and Protected***\n",
        "# ***Assignment:***\n",
        "# ***Create a class Employee with:***\n",
        "\n",
        "# ***a public variable name,***\n",
        "\n",
        "# ***a protected variable _salary, and***\n",
        "\n",
        "# ***a private variable __ssn.***\n",
        "\n",
        "# ***Try accessing all three variables from an object of the class and document what happens.***"
      ],
      "metadata": {
        "id": "1pBDBcvExhHn"
      }
    },
    {
      "cell_type": "code",
      "source": [
        "class Employee:\n",
        "  def __init__(self, name, salary, ssn):\n",
        "    self.name = name\n",
        "    self._salary = salary\n",
        "    self.__ssn = ssn\n",
        "\n",
        "emp1 = Employee(\"Harry\", 300000 , \"0869735\")\n",
        "print(emp1.name)\n",
        "print(emp1._salary)\n",
        "print(emp1._Employee__ssn)\n"
      ],
      "metadata": {
        "id": "QiDuuXFtxurX",
        "colab": {
          "base_uri": "https://localhost:8080/"
        },
        "outputId": "b2668191-fc3f-4e5d-8b87-73ffde0dd0f9"
      },
      "execution_count": null,
      "outputs": [
        {
          "output_type": "stream",
          "name": "stdout",
          "text": [
            "Harry\n",
            "300000\n",
            "0869735\n"
          ]
        }
      ]
    },
    {
      "cell_type": "markdown",
      "source": [
        "# ***8. The super() Function***\n",
        "# ***Assignment:***\n",
        "# ***Create a class Person with a constructor that sets the name. Inherit a class Teacher from it, add a subject field, and use super() to call the base class constructor.***"
      ],
      "metadata": {
        "id": "w4K-0cLbxvE2"
      }
    },
    {
      "cell_type": "code",
      "source": [
        "class Person:\n",
        "  def __init__(self , name):\n",
        "    self.name = name\n",
        "\n",
        "class Teacher(Person):\n",
        "  def __init__(self, name, subject):\n",
        "    super().__init__(name)\n",
        "    self.subject = subject\n",
        "\n",
        "person1 = Person(\"Harry\")\n",
        "teacher1 = Teacher(\"Ali\", \"Computer\")\n",
        "print(person1.name)\n",
        "print(teacher1.name)\n",
        "print(teacher1.subject)"
      ],
      "metadata": {
        "id": "SGbqokrlx0z-",
        "colab": {
          "base_uri": "https://localhost:8080/"
        },
        "outputId": "5cc550b3-e46d-46d8-c27a-4d0f137501b7"
      },
      "execution_count": null,
      "outputs": [
        {
          "output_type": "stream",
          "name": "stdout",
          "text": [
            "Harry\n",
            "Ali\n",
            "Computer\n"
          ]
        }
      ]
    },
    {
      "cell_type": "markdown",
      "source": [
        "# ***9. Abstract Classes and Methods***\n",
        "# ***Assignment:***\n",
        "# ***Use the abc module to create an abstract class Shape with an abstract method area(). Inherit a class Rectangle that implements area().***"
      ],
      "metadata": {
        "id": "LaNf2nv1x1We"
      }
    },
    {
      "cell_type": "code",
      "source": [
        "from abc import ABC, abstractmethod\n",
        "\n",
        "class Shape(ABC):\n",
        "  @abstractmethod\n",
        "  def area(self):\n",
        "    pass\n",
        "\n",
        "class Rectangle(Shape):\n",
        "  def __init__(self, length, width):\n",
        "    self.length = length\n",
        "    self.width = width\n",
        "\n",
        "  def area(self):\n",
        "    return self.length * self.width\n",
        "\n",
        "rect1 = Rectangle(10,20)\n",
        "print(rect1.area())\n"
      ],
      "metadata": {
        "id": "fI_za66Ax7H2",
        "colab": {
          "base_uri": "https://localhost:8080/"
        },
        "outputId": "ec136398-bac3-4181-d4c9-ba984da05156"
      },
      "execution_count": null,
      "outputs": [
        {
          "output_type": "stream",
          "name": "stdout",
          "text": [
            "200\n"
          ]
        }
      ]
    },
    {
      "cell_type": "markdown",
      "source": [
        "# ***10. Instance Methods***\n",
        "# ***Assignment:***\n",
        "# ***Create a class Dog with instance variables name and breed. Add an instance method bark() that prints a message including the dog's name.***"
      ],
      "metadata": {
        "id": "qm4-BIyQx7fR"
      }
    },
    {
      "cell_type": "code",
      "source": [
        "class Dog():\n",
        "  def __init__(self , name ,breed):\n",
        "    self.name = name\n",
        "    self.breed = breed\n",
        "\n",
        "  def bark(self):\n",
        "    print(f\"{self.name} is barking.\")\n",
        "\n",
        "dog1 = Dog(\"Buddy\", \"Labrador\")\n",
        "dog1.bark()"
      ],
      "metadata": {
        "id": "hDKZ1qp_yBGF",
        "colab": {
          "base_uri": "https://localhost:8080/"
        },
        "outputId": "1e3b7f9d-73dc-4c89-8cf5-d1414f7cd659"
      },
      "execution_count": null,
      "outputs": [
        {
          "output_type": "stream",
          "name": "stdout",
          "text": [
            "Buddy is barking.\n"
          ]
        }
      ]
    },
    {
      "cell_type": "markdown",
      "source": [
        "# ***11. Class Methods***\n",
        "# ***Assignment:***\n",
        "# ***Create a class Book with a class variable total_books. Add a class method increment_book_count() to increase the count when a new book is added.***"
      ],
      "metadata": {
        "id": "A-APhihOyBt-"
      }
    },
    {
      "cell_type": "code",
      "source": [
        "class Book:\n",
        "  total_books = 0\n",
        "  @classmethod\n",
        "  def increment_book_count(cls):\n",
        "    cls.total_books += 1\n",
        "\n",
        "book1 = Book()\n",
        "book1.increment_book_count()\n",
        "book2 = Book()\n",
        "book2.increment_book_count()\n",
        "print(Book.total_books)"
      ],
      "metadata": {
        "id": "5bmlCMVryFwu",
        "colab": {
          "base_uri": "https://localhost:8080/"
        },
        "outputId": "53c175a6-1a4f-4df4-9896-177e3670b870"
      },
      "execution_count": null,
      "outputs": [
        {
          "output_type": "stream",
          "name": "stdout",
          "text": [
            "2\n"
          ]
        }
      ]
    },
    {
      "cell_type": "markdown",
      "source": [
        "# ***12. Static Methods***\n",
        "# ***Assignment:***\n",
        "# ***Create a class TemperatureConverter with a static method celsius_to_fahrenheit(c) that returns the Fahrenheit value.***"
      ],
      "metadata": {
        "id": "ZEdKJiHfyGKV"
      }
    },
    {
      "cell_type": "code",
      "source": [
        "class TemperatureConverter:\n",
        "  @staticmethod\n",
        "  def celsius_to_fahrenheit(c):\n",
        "    return (c * 9/5) + 32\n",
        "\n",
        "print(TemperatureConverter.celsius_to_fahrenheit(30))"
      ],
      "metadata": {
        "id": "j9ll3GFdyMqQ",
        "colab": {
          "base_uri": "https://localhost:8080/"
        },
        "outputId": "dc761378-2ea5-4f5e-c2cb-d4cecb693cb3"
      },
      "execution_count": null,
      "outputs": [
        {
          "output_type": "stream",
          "name": "stdout",
          "text": [
            "86.0\n"
          ]
        }
      ]
    },
    {
      "cell_type": "markdown",
      "source": [
        "# ***13. Composition***\n",
        "# ***Assignment:***\n",
        "# ***Create a class Engine and a class Car. Use composition by passing an Engine object to the Car class during initialization. Access a method of the Engine class via the Car class.***"
      ],
      "metadata": {
        "id": "RkDNmVxtyOB9"
      }
    },
    {
      "cell_type": "code",
      "source": [
        "class Engine:\n",
        "  def start(self):\n",
        "    print(\"Engine started\")\n",
        "\n",
        "class Car:\n",
        "  def __init__(self, engine):\n",
        "    self.engine = engine\n",
        "\n",
        "  def start_engine(self):\n",
        "    self.engine.start()\n",
        "    print(\"Car is now running.\")\n",
        "engine1 = Engine()\n",
        "car1 = Car(engine1)\n",
        "car1.start_engine()"
      ],
      "metadata": {
        "id": "BFTy_RARyVJ1",
        "colab": {
          "base_uri": "https://localhost:8080/"
        },
        "outputId": "b53c6853-fd22-43f5-8718-b0db2feb11b2"
      },
      "execution_count": null,
      "outputs": [
        {
          "output_type": "stream",
          "name": "stdout",
          "text": [
            "Engine started\n",
            "Car is now running.\n"
          ]
        }
      ]
    },
    {
      "cell_type": "markdown",
      "source": [
        "# ***14. Aggregation***\n",
        "# ***Assignment:***\n",
        "# ***Create a class Department and a class Employee. Use aggregation by having a Department object store a reference to an Employee object that exists independently of it.***"
      ],
      "metadata": {
        "id": "qsvZpzsOyVn8"
      }
    },
    {
      "cell_type": "code",
      "source": [
        "class Department:\n",
        "  def __init__(self, name):\n",
        "    self.name = name\n",
        "\n",
        "class Employee:\n",
        "  def __init__(self, name, department):\n",
        "    self.name = name\n",
        "    self.department = department\n",
        "\n",
        "  def show(self):\n",
        "    print(f\"Name: {self.name} , Department: {self.department.name}\")\n",
        "\n",
        "department1 = Department(\"IT\")\n",
        "employee1 = Employee(\"Ali\", department1)\n",
        "employee1.show()"
      ],
      "metadata": {
        "id": "hIHTDdRJyZXt",
        "colab": {
          "base_uri": "https://localhost:8080/"
        },
        "outputId": "799d7313-5837-4d73-fbfe-23e381f26558"
      },
      "execution_count": null,
      "outputs": [
        {
          "output_type": "stream",
          "name": "stdout",
          "text": [
            "Name: Ali , Department: IT\n"
          ]
        }
      ]
    },
    {
      "cell_type": "markdown",
      "source": [
        "# ***15. Method Resolution Order (MRO) and Diamond Inheritance***\n",
        "# ***Assignment:***\n",
        "# ***Create four classes:***\n",
        "# ***A with a method show(),***\n",
        "# ***B and C that inherit from A and override show(),***\n",
        "# ***D that inherits from both B and C.***\n",
        "# ***Create an object of D and call show() to observe MRO.***"
      ],
      "metadata": {
        "id": "oP5zxtJUyZ2k"
      }
    },
    {
      "cell_type": "code",
      "source": [
        "class A:\n",
        "  def show(self):\n",
        "    print(\"A\")\n",
        "\n",
        "\n",
        "class B(A):\n",
        "  def show(self):\n",
        "    print(\"B\")\n",
        "\n",
        "class C(A):\n",
        "  def show(self):\n",
        "    print(\"C\")\n",
        "\n",
        "class D(B,C):\n",
        "  pass\n",
        "\n",
        "d1 = D()\n",
        "d1.show()\n",
        "print(D.__mro__)"
      ],
      "metadata": {
        "id": "su6M8bvKyfbl",
        "colab": {
          "base_uri": "https://localhost:8080/"
        },
        "outputId": "d8630e0a-8a0c-4b61-8210-212b4d25a8e6"
      },
      "execution_count": null,
      "outputs": [
        {
          "output_type": "stream",
          "name": "stdout",
          "text": [
            "B\n",
            "(<class '__main__.D'>, <class '__main__.B'>, <class '__main__.C'>, <class '__main__.A'>, <class 'object'>)\n"
          ]
        }
      ]
    },
    {
      "cell_type": "markdown",
      "source": [
        "# ***16. Function Decorators***\n",
        "# ***Assignment:***\n",
        "# ***Write a decorator function log_function_call that prints \"Function is being called\" before a function executes. Apply it to a function say_hello().***"
      ],
      "metadata": {
        "id": "0gdXSENQyf6c"
      }
    },
    {
      "cell_type": "code",
      "source": [
        "def log_function_call(function):\n",
        "  def wrapper():\n",
        "    print(\"Function is being called\")\n",
        "    function()\n",
        "  return wrapper\n",
        "\n",
        "@log_function_call\n",
        "def say_hello():\n",
        "  print(\"Hello\")\n",
        "\n",
        "say_hello()"
      ],
      "metadata": {
        "id": "PSVQ-C1EymgM",
        "colab": {
          "base_uri": "https://localhost:8080/"
        },
        "outputId": "84d0ba24-adfb-4bb9-fa1b-4ea9c96fe577"
      },
      "execution_count": null,
      "outputs": [
        {
          "output_type": "stream",
          "name": "stdout",
          "text": [
            "Function is being called\n",
            "Hello\n"
          ]
        }
      ]
    },
    {
      "cell_type": "markdown",
      "source": [
        "# ***17. Class Decorators***\n",
        "# ***Assignment:***\n",
        "# ***Create a class decorator add_greeting that modifies a class to add a greet() method returning \"Hello from Decorator!\". Apply it to a class Person.***"
      ],
      "metadata": {
        "id": "mhoXRccNynEk"
      }
    },
    {
      "cell_type": "code",
      "source": [
        "def add_greeting(cls):\n",
        "  def greet(self):\n",
        "    return \"Hello from Decorator!\"\n",
        "  cls.greet = greet\n",
        "  return cls\n",
        "\n",
        "@add_greeting\n",
        "class Person:\n",
        "  def __init__(self, name):\n",
        "    self.name = name\n",
        "\n",
        "p1 = Person(\"Ali\")\n",
        "print(p1.greet())\n",
        "print(p1.name)"
      ],
      "metadata": {
        "id": "pPZMZp43yq8s",
        "colab": {
          "base_uri": "https://localhost:8080/"
        },
        "outputId": "880fdfd6-0444-4bdf-f78f-e9aacc8663db"
      },
      "execution_count": null,
      "outputs": [
        {
          "output_type": "stream",
          "name": "stdout",
          "text": [
            "Hello from Decorator!\n",
            "Ali\n"
          ]
        }
      ]
    },
    {
      "cell_type": "markdown",
      "source": [
        "# ***18. Property Decorators: @property, @setter, and @deleter***\n",
        "# ***Assignment:***\n",
        "# ***Create a class Product with a private attribute _price. Use @property to get the price, @price.setter to update it, and @price.deleter to delete it.***"
      ],
      "metadata": {
        "id": "VNtqFh_6yrYk"
      }
    },
    {
      "cell_type": "code",
      "source": [
        "class Product:\n",
        "  def __init__(self,price) :\n",
        "    self._price = price\n",
        "  @property\n",
        "  def price(self):\n",
        "    print(\"Getting price!\")\n",
        "    return self._price\n",
        "\n",
        "  @price.setter\n",
        "  def price(self, value):\n",
        "    print(\"Setting price!\")\n",
        "    if value < 0:\n",
        "      print(\"Price cannot be negative.\")\n",
        "    else:\n",
        "      self._price = value\n",
        "\n",
        "  @price.deleter\n",
        "  def price(self):\n",
        "    print(\"Deleting price!\")\n",
        "    del self._price\n",
        "\n",
        "product1 = Product(1000)\n",
        "print(product1.price)\n",
        "product1.price = 1500\n",
        "print(product1.price)\n",
        "del product1.price"
      ],
      "metadata": {
        "id": "lgQ4YXoNywWr",
        "colab": {
          "base_uri": "https://localhost:8080/"
        },
        "outputId": "1722ae40-b08c-4748-94b9-84f132bb2033"
      },
      "execution_count": 13,
      "outputs": [
        {
          "output_type": "stream",
          "name": "stdout",
          "text": [
            "Getting price!\n",
            "1000\n",
            "Setting price!\n",
            "Getting price!\n",
            "1500\n",
            "Deleting price!\n"
          ]
        }
      ]
    },
    {
      "cell_type": "markdown",
      "source": [
        "# ***19. callable() and __call__()***\n",
        "## ***Assignment:***\n",
        "# ***Create a class Multiplier with an __init__() to set a factor. Define a __call__() method that multiplies an input by the factor. Test it with callable() and by calling the object like a function.***"
      ],
      "metadata": {
        "id": "NN1UWp0gyw68"
      }
    },
    {
      "cell_type": "code",
      "source": [
        "class Multiplier:\n",
        "  def __init__(self, factor) :\n",
        "    self.factor = factor\n",
        "\n",
        "  def __call__(self, number):\n",
        "    return number * self.factor\n",
        "\n",
        "multiplier1 = Multiplier(12)\n",
        "result = multiplier1(9)\n",
        "\n",
        "print(callable(multiplier1))\n",
        "print(result)\n"
      ],
      "metadata": {
        "id": "22vw4Qsoy3Bb",
        "colab": {
          "base_uri": "https://localhost:8080/"
        },
        "outputId": "32afa91a-13f2-4d70-b52f-eef8943f8dfa"
      },
      "execution_count": 14,
      "outputs": [
        {
          "output_type": "stream",
          "name": "stdout",
          "text": [
            "True\n",
            "108\n"
          ]
        }
      ]
    },
    {
      "cell_type": "markdown",
      "source": [
        "## ***20. Creating a Custom Exception***\n",
        "# ***Assignment:***\n",
        "### ***Create a custom exception InvalidAgeError. Write a function check_age(age) that raises this exception if age < 18. Handle it with try...except.***"
      ],
      "metadata": {
        "id": "rH30z_Xyy3eE"
      }
    },
    {
      "cell_type": "code",
      "source": [
        "class InvalidAgeError(Exception):\n",
        "  pass\n",
        "\n",
        "def check_age(age):\n",
        "  if age < 18:\n",
        "    raise InvalidAgeError(\"Age must be 18 or older.\")\n",
        "  else:\n",
        "    print(\"You are eligible\")\n",
        "\n",
        "try:\n",
        "  age_input = int(input(\"Enter your age: \"))\n",
        "  check_age(age_input)\n",
        "except InvalidAgeError as e:\n",
        "  print(e)\n",
        "except ValueError:\n",
        "  print(\"Invalid input. Please enter a valid age.\")"
      ],
      "metadata": {
        "id": "jBARjgvqy86r",
        "colab": {
          "base_uri": "https://localhost:8080/"
        },
        "outputId": "40f2a36f-d2ea-41cf-990c-61b28025aa4a"
      },
      "execution_count": 26,
      "outputs": [
        {
          "output_type": "stream",
          "name": "stdout",
          "text": [
            "Enter your age: 16\n",
            "Age must be 18 or older.\n"
          ]
        }
      ]
    },
    {
      "cell_type": "markdown",
      "source": [
        "# ***21. Make a Custom Class Iterable***\n",
        "# ***Assignment:***\n",
        "# ***Create a class Countdown that takes a start number. Implement __iter__() and __next__() to make the object iterable in a for-loop, counting down to 0.***"
      ],
      "metadata": {
        "id": "NI6Xvwsgy9l9"
      }
    },
    {
      "cell_type": "code",
      "source": [
        "class Countdown:\n",
        "  def __init__(self, start):\n",
        "    self.start = start\n",
        "    self.current = start\n",
        "\n",
        "  def __iter__(self):\n",
        "    return self\n",
        "\n",
        "  def __next__(self):\n",
        "    if self.current < 0:\n",
        "      raise StopIteration\n",
        "    value = self.current\n",
        "    self.current -= 1\n",
        "    return value\n",
        "\n",
        "cd = Countdown(5)\n",
        "for num in cd:\n",
        "  print(num)"
      ],
      "metadata": {
        "id": "wVfb31hLzCHL",
        "colab": {
          "base_uri": "https://localhost:8080/"
        },
        "outputId": "9248535e-7a45-424f-b57f-accbd535017a"
      },
      "execution_count": 30,
      "outputs": [
        {
          "output_type": "stream",
          "name": "stdout",
          "text": [
            "5\n",
            "4\n",
            "3\n",
            "2\n",
            "1\n",
            "0\n"
          ]
        }
      ]
    }
  ]
}